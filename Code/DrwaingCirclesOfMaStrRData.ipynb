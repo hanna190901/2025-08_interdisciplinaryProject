{
 "cells": [
  {
   "cell_type": "markdown",
   "id": "f243fa2b-fdaf-4660-8cac-e37f962ce957",
   "metadata": {},
   "source": [
    "# Marktstammdatenregister Solarpanels in *.geojson"
   ]
  },
  {
   "cell_type": "code",
   "execution_count": 1,
   "id": "d80fc97c-704d-4839-9b97-fd62bf4a30e3",
   "metadata": {},
   "outputs": [],
   "source": [
    "import pandas as pd\n",
    "import geopandas as gpd\n",
    "from shapely.geometry import Point\n",
    "import math"
   ]
  },
  {
   "cell_type": "markdown",
   "id": "f43877e4-4c2c-40f9-9dd3-f03c799f6a0b",
   "metadata": {},
   "source": [
    "### ein Kreis pro Eintrag (überlappende Kreise)"
   ]
  },
  {
   "cell_type": "code",
   "execution_count": 2,
   "id": "9d5d5202-1124-4579-94ab-462d537adf35",
   "metadata": {},
   "outputs": [],
   "source": [
    "# CSV-Datei laden (mit deutschem Dezimal- und Spaltentrennzeichen)\n",
    "df = pd.read_csv(\"StromerzeugerSolarKoordinaten.csv\", sep=';')\n",
    "\n",
    "# Spaltennamen automatisch erkennen\n",
    "lat_col = [col for col in df.columns if 'breit' in col.lower()][0]\n",
    "lon_col = [col for col in df.columns if 'läng' in col.lower() or 'lon' in col.lower()][0]\n",
    "kwp_col = [col for col in df.columns if 'installierte leistung' in col.lower()][0]\n",
    "\n",
    "# Kommazahlen in Punktnotation umwandeln und in float konvertieren\n",
    "df[lat_col] = df[lat_col].astype(str).str.replace(',', '.').astype(float)\n",
    "df[lon_col] = df[lon_col].astype(str).str.replace(',', '.').astype(float)\n",
    "df[kwp_col] = df[kwp_col].astype(str).str.replace(',', '.').astype(float)\n",
    "\n",
    "# Fläche berechnen (1 kWp ≈ 6 m²)\n",
    "df[\"Flaeche_m2\"] = df[kwp_col] * 6\n",
    "\n",
    "# Punkt-Geometrien erzeugen\n",
    "geometry = [Point(xy) for xy in zip(df[lon_col], df[lat_col])]\n",
    "gdf_points = gpd.GeoDataFrame(df, geometry=geometry, crs=\"EPSG:4326\")\n",
    "\n",
    "# In metrisches Koordinatensystem (Web Mercator) transformieren\n",
    "gdf_projected = gdf_points.to_crs(epsg=3857)\n",
    "\n",
    "# Kreise mit Fläche erzeugen (Radius = √(Fläche / π))\n",
    "gdf_projected[\"geometry\"] = [\n",
    "    Point(pt.x, pt.y).buffer(math.sqrt(area / math.pi))\n",
    "    for pt, area in zip(gdf_projected.geometry, gdf_projected[\"Flaeche_m2\"])\n",
    "]\n",
    "\n",
    "# Zurück in WGS84 für GeoJSON-Export\n",
    "gdf_final = gdf_projected.to_crs(epsg=4326)\n",
    "\n",
    "# Export als GeoJSON\n",
    "gdf_final.to_file(\"solaranlagen_flaechen.geojson\", driver=\"GeoJSON\")\n"
   ]
  },
  {
   "cell_type": "markdown",
   "id": "96bbdeeb-4b2e-4522-b386-52fc4a66786f",
   "metadata": {},
   "source": [
    "### gruppierte Einträge, wenn mehrere Einträge an einem Standort -> keine überlappenden Kreise"
   ]
  },
  {
   "cell_type": "code",
   "execution_count": 4,
   "id": "7ccb9d58-ab76-4faf-b0ae-6310a43de366",
   "metadata": {},
   "outputs": [],
   "source": [
    "# CSV-Datei laden (deutsches Format: Semikolon als Trennzeichen, Komma als Dezimaltrennzeichen)\n",
    "df = pd.read_csv(\"StromerzeugerSolarKoordinaten.csv\", sep=';')\n",
    "\n",
    "# Relevante Spalten identifizieren\n",
    "lat_col = [col for col in df.columns if 'breit' in col.lower()][0]\n",
    "lon_col = [col for col in df.columns if 'läng' in col.lower() or 'lon' in col.lower()][0]\n",
    "kwp_col = [col for col in df.columns if 'installierte leistung' in col.lower()][0]\n",
    "\n",
    "# Kommazahlen in Punktnotation umwandeln und in float konvertieren\n",
    "df[lat_col] = df[lat_col].astype(str).str.replace(',', '.').astype(float)\n",
    "df[lon_col] = df[lon_col].astype(str).str.replace(',', '.').astype(float)\n",
    "df[kwp_col] = df[kwp_col].astype(str).str.replace(',', '.').astype(float)\n",
    "\n",
    "# Gruppieren nach Koordinaten und installierte Leistung summieren\n",
    "grouped = df.groupby([lat_col, lon_col], as_index=False)[kwp_col].sum()\n",
    "\n",
    "# Fläche berechnen (1 kWp ≈ 6 m²)\n",
    "grouped[\"Flaeche_m2\"] = grouped[kwp_col] * 6\n",
    "\n",
    "# Punkt-Geometrien erzeugen\n",
    "geometry = [Point(xy) for xy in zip(grouped[lon_col], grouped[lat_col])]\n",
    "gdf_points = gpd.GeoDataFrame(grouped, geometry=geometry, crs=\"EPSG:4326\")\n",
    "\n",
    "# In metrisches Koordinatensystem transformieren\n",
    "gdf_projected = gdf_points.to_crs(epsg=3857)\n",
    "\n",
    "# Kreise mit Fläche erzeugen (Radius = √(Fläche / π))\n",
    "gdf_projected[\"geometry\"] = [\n",
    "    Point(pt.x, pt.y).buffer(math.sqrt(area / math.pi))\n",
    "    for pt, area in zip(gdf_projected.geometry, gdf_projected[\"Flaeche_m2\"])\n",
    "]\n",
    "\n",
    "# Zurück in WGS84 für GeoJSON-Export\n",
    "gdf_final = gdf_projected.to_crs(epsg=4326)\n",
    "\n",
    "# Export als GeoJSON\n",
    "gdf_final.to_file(\"solaranlagen_flaechen_gruppiert.geojson\", driver=\"GeoJSON\")\n"
   ]
  },
  {
   "cell_type": "code",
   "execution_count": null,
   "id": "3810205f-8af3-48da-9d2a-0450df22210c",
   "metadata": {},
   "outputs": [],
   "source": []
  }
 ],
 "metadata": {
  "kernelspec": {
   "display_name": "Python 3 (ipykernel)",
   "language": "python",
   "name": "python3"
  },
  "language_info": {
   "codemirror_mode": {
    "name": "ipython",
    "version": 3
   },
   "file_extension": ".py",
   "mimetype": "text/x-python",
   "name": "python",
   "nbconvert_exporter": "python",
   "pygments_lexer": "ipython3",
   "version": "3.12.9"
  }
 },
 "nbformat": 4,
 "nbformat_minor": 5
}
